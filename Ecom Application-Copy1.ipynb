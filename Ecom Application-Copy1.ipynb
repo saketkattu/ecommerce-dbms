{
 "cells": [
  {
   "cell_type": "code",
   "execution_count": 3,
   "id": "81850f26",
   "metadata": {},
   "outputs": [
    {
     "name": "stdout",
     "output_type": "stream",
     "text": [
      "Collecting mysql-connector-python\n",
      "  Downloading mysql_connector_python-8.0.28-cp38-cp38-win_amd64.whl (7.2 MB)\n",
      "Requirement already satisfied: protobuf>=3.0.0 in c:\\programdata\\anaconda3\\envs\\pytorch\\lib\\site-packages (from mysql-connector-python) (3.13.0)\n",
      "Requirement already satisfied: six>=1.9 in c:\\programdata\\anaconda3\\envs\\pytorch\\lib\\site-packages (from protobuf>=3.0.0->mysql-connector-python) (1.15.0)\n",
      "Requirement already satisfied: setuptools in c:\\programdata\\anaconda3\\envs\\pytorch\\lib\\site-packages (from protobuf>=3.0.0->mysql-connector-python) (50.3.0.post20201006)\n",
      "Installing collected packages: mysql-connector-python\n",
      "Successfully installed mysql-connector-python-8.0.28\n"
     ]
    }
   ],
   "source": [
    "!pip install mysql-connector-python"
   ]
  },
  {
   "cell_type": "code",
   "execution_count": 24,
   "id": "72fdd727",
   "metadata": {},
   "outputs": [],
   "source": [
    "import mysql.connector\n",
    "from mysql.connector import Error\n",
    "import pandas as pd"
   ]
  },
  {
   "cell_type": "markdown",
   "id": "496bf292",
   "metadata": {},
   "source": [
    "# Setting up enviroment and Helper Fucntions "
   ]
  },
  {
   "cell_type": "code",
   "execution_count": 27,
   "id": "d3af79fb",
   "metadata": {},
   "outputs": [],
   "source": [
    "# Connection Parameters\n",
    "\n",
    "HOST_NAME=''\n",
    "USER_NAME=''\n",
    "USER_PASSWORD='Sql@1234'\n",
    "db='ecom1'"
   ]
  },
  {
   "cell_type": "code",
   "execution_count": 18,
   "id": "4209903b",
   "metadata": {},
   "outputs": [],
   "source": [
    "#Establishing a connection to the database\n",
    "def create_server_connection(host_name, user_name, user_password):\n",
    "    connection = None\n",
    "    try:\n",
    "        connection = mysql.connector.connect(\n",
    "            host=host_name,\n",
    "            user=user_name,\n",
    "            passwd=user_password\n",
    "        )\n",
    "        print(\"MySQL Database connection successful\")\n",
    "    except Error as err:\n",
    "        print(f\"Error: '{err}'\")\n",
    "\n",
    "    return connection"
   ]
  },
  {
   "cell_type": "code",
   "execution_count": 19,
   "id": "e1684066",
   "metadata": {},
   "outputs": [
    {
     "name": "stdout",
     "output_type": "stream",
     "text": [
      "MySQL Database connection successful\n"
     ]
    }
   ],
   "source": [
    "#Connecting to the database\n",
    "connection = create_server_connection(\"localhost\", \"root\", USER_PASSWORD,)"
   ]
  },
  {
   "cell_type": "code",
   "execution_count": 20,
   "id": "e1d1661e",
   "metadata": {},
   "outputs": [],
   "source": [
    "#Creating a database\n",
    "def create_database(connection, query):\n",
    "    cursor = connection.cursor()\n",
    "    try:\n",
    "        cursor.execute(query)\n",
    "        print(\"Database created successfully\")\n",
    "    except Error as err:\n",
    "        print(f\"Error: '{err}'\")"
   ]
  },
  {
   "cell_type": "code",
   "execution_count": 21,
   "id": "80fc2e9b",
   "metadata": {},
   "outputs": [],
   "source": [
    "#Create a connection to a specific database\n",
    "def create_db_connection(host_name, user_name, user_password, db_name):\n",
    "    connection = None\n",
    "    try:\n",
    "        connection = mysql.connector.connect(\n",
    "            host=host_name,\n",
    "            user=user_name,\n",
    "            passwd=user_password,\n",
    "            database=db_name\n",
    "        )\n",
    "        print(\"MySQL Database connection successful\")\n",
    "    except Error as err:\n",
    "        print(f\"Error: '{err}'\")\n",
    "\n",
    "    return connection"
   ]
  },
  {
   "cell_type": "code",
   "execution_count": 22,
   "id": "fb09d882",
   "metadata": {},
   "outputs": [],
   "source": [
    "#Function to execute an query\n",
    "def execute_query(connection, query):\n",
    "    cursor = connection.cursor()\n",
    "    try:\n",
    "        cursor.execute(query)\n",
    "        connection.commit()\n",
    "        print(\"Query successful\")\n",
    "    except Error as err:\n",
    "        print(f\"Error: '{err}'\")"
   ]
  },
  {
   "cell_type": "markdown",
   "id": "163f6036",
   "metadata": {},
   "source": [
    "# Creating Tables \n"
   ]
  },
  {
   "cell_type": "code",
   "execution_count": 48,
   "id": "fb801046",
   "metadata": {},
   "outputs": [
    {
     "name": "stdout",
     "output_type": "stream",
     "text": [
      "MySQL Database connection successful\n",
      "Error: '1050 (42S01): Table 'products' already exists'\n"
     ]
    }
   ],
   "source": [
    "#Create Products Table \n",
    "create_products_table = \"\"\"\n",
    "CREATE TABLE products (\n",
    "  id INT PRIMARY KEY,\n",
    "  name VARCHAR(40) NOT NULL,\n",
    "  price INT NOT NULL,\n",
    "  quantity_remaining INT NOT NULL,\n",
    "  image VARCHAR(300),\n",
    "  weight DECIMAL,\n",
    "  sku VARCHAR(20)\n",
    "  \n",
    "  );\n",
    " \"\"\"\n",
    "\n",
    "\n",
    "\n",
    "connection = create_db_connection(\"localhost\", \"root\",USER_PASSWORD,db) # Connect to the Database\n",
    "execute_query(connection, create_products_table) # Execute our defined query\n",
    "\n",
    "\n"
   ]
  },
  {
   "cell_type": "code",
   "execution_count": 47,
   "id": "14478efa",
   "metadata": {},
   "outputs": [
    {
     "name": "stdout",
     "output_type": "stream",
     "text": [
      "Query successful\n"
     ]
    }
   ],
   "source": [
    "#Create Orders\n",
    "create_order_table = \"\"\"\n",
    "CREATE TABLE `order`(\n",
    "  id INT PRIMARY KEY ,\n",
    "  cust_name VARCHAR(40) NOT NULL,\n",
    "  shipping_add VARCHAR(100) NOT NULL,\n",
    "  order_date DATE,\n",
    "  total_weight DECIMAL,\n",
    "  product_id INT,\n",
    "  FOREIGN KEY(cust_name) REFERENCES customers(name),\n",
    "  FOREIGN KEY(product_id) REFERENCES products(id)\n",
    "  );\n",
    " \"\"\"\n",
    "\n",
    "execute_query(connection, create_order_table)"
   ]
  },
  {
   "cell_type": "code",
   "execution_count": 46,
   "id": "d9eb3dc2",
   "metadata": {},
   "outputs": [
    {
     "name": "stdout",
     "output_type": "stream",
     "text": [
      "Query successful\n"
     ]
    }
   ],
   "source": [
    "#Create Customer Table\n",
    "\n",
    "create_customers_table = \"\"\"\n",
    "CREATE TABLE customers(\n",
    "  name VARCHAR(40) PRIMARY KEY,\n",
    "  email VARCHAR(40) NOT NULL,\n",
    "  phone VARCHAR(10) NOT NULL,\n",
    "  address VARCHAR(100) NOT NULL,\n",
    "  payment_method VARCHAR(100)\n",
    "  \n",
    "  );\n",
    " \"\"\"\n",
    "\n",
    "execute_query(connection, create_customers_table)"
   ]
  },
  {
   "cell_type": "markdown",
   "id": "c56233ec",
   "metadata": {},
   "source": [
    "# Inserting Values into the Tables"
   ]
  },
  {
   "cell_type": "code",
   "execution_count": null,
   "id": "6ed8e80c",
   "metadata": {},
   "outputs": [],
   "source": [
    "pop_client = \"\"\"\n",
    "INSERT INTO client VALUES\n",
    "(101, 'Big Business Federation', '123 Falschungstraße, 10999 Berlin', 'NGO'),\n",
    "(102, 'eCommerce GmbH', '27 Ersatz Allee, 10317 Berlin', 'Retail'),\n",
    "(103, 'AutoMaker AG',  '20 Künstlichstraße, 10023 Berlin', 'Auto'),\n",
    "(104, 'Banko Bank',  '12 Betrugstraße, 12345 Berlin', 'Banking'),\n",
    "(105, 'WeMoveIt GmbH', '138 Arglistweg, 10065 Berlin', 'Logistics');\n",
    "\"\"\"\n",
    "\n",
    "pop_participant = \"\"\"\n",
    "\n",
    "\"\"\"\"\n",
    "\n",
    "pop_participant = \"\"\"\n",
    "\n",
    "\"\"\"\"\n",
    "\n",
    "\n",
    "connection = create_db_connection(\"localhost\", \"root\", pw, db)\n",
    "execute_query(connection, pop_client)\n",
    "execute_query(connection, pop_participant)\n",
    "execute_query(connection, pop_course)\n"
   ]
  },
  {
   "cell_type": "markdown",
   "id": "aef00231",
   "metadata": {},
   "source": [
    "# Querying Data "
   ]
  },
  {
   "cell_type": "code",
   "execution_count": 26,
   "id": "dc5b0203",
   "metadata": {},
   "outputs": [],
   "source": [
    "def read_query(connection, query):\n",
    "    cursor = connection.cursor()\n",
    "    result = None\n",
    "    try:\n",
    "        cursor.execute(query)\n",
    "        result = cursor.fetchall()\n",
    "        return result\n",
    "    except Error as err:\n",
    "        print(f\"Error: '{err}'\")"
   ]
  },
  {
   "cell_type": "code",
   "execution_count": null,
   "id": "e0104a27",
   "metadata": {},
   "outputs": [],
   "source": [
    "q1 = \"\"\"\n",
    "SELECT *\n",
    "FROM teacher;\n",
    "\"\"\"\n",
    "\n",
    "connection = create_db_connection(\"localhost\", \"root\", pw, db)\n",
    "results = read_query(connection, q1)\n",
    "\n",
    "for result in results:\n",
    "  print(result)"
   ]
  }
 ],
 "metadata": {
  "kernelspec": {
   "display_name": "Python 3 (ipykernel)",
   "language": "python",
   "name": "python3"
  },
  "language_info": {
   "codemirror_mode": {
    "name": "ipython",
    "version": 3
   },
   "file_extension": ".py",
   "mimetype": "text/x-python",
   "name": "python",
   "nbconvert_exporter": "python",
   "pygments_lexer": "ipython3",
   "version": "3.8.5"
  }
 },
 "nbformat": 4,
 "nbformat_minor": 5
}
